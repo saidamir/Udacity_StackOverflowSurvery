{
 "cells": [
  {
   "cell_type": "markdown",
   "metadata": {},
   "source": [
    "<h2 id='part1'>Data description</h2>\n",
    "\n",
    "I am going to write a blogpost about Stack Overflow annual developer survey results for 2017 as part of Udacity Data Science nanodegree project.\n",
    "\n",
    "https://insights.stackoverflow.com/survey/2017\n",
    "\n",
    "'Each year since 2011, Stack Overflow has asked developers about their favorite technologies, coding habits, and work preferences, as well as how they learn, share, and level up. This year represents the largest group of respondents in our history: 64,000 developers took our annual survey in January.'"
   ]
  },
  {
   "cell_type": "markdown",
   "metadata": {},
   "source": [
    "### CRISP - DM process\n",
    "\n",
    "CRISP-DM breaks the process of data mining into six major phases (Harper, Gavin; Stephen D. Pickett (August 2006). \"Methods for mining HTS data\". Drug Discovery Today. 11 (15–16): 694–699.(:\n",
    "\n",
    "- Business Understanding\n",
    "- Data Understanding\n",
    "- Data Preparation\n",
    "- Modeling\n",
    "- Evaluation\n",
    "- Deployment"
   ]
  },
  {
   "cell_type": "markdown",
   "metadata": {},
   "source": [
    "#### Business understanding\n",
    "\n",
    "Stackoverflow ('SO') collected and published a poll where it's users answered 154 questions pertaining to their personal and SO related experience. These polls are annual and I am going to analyse 2017 poll.\n",
    "\n",
    "I'd like to research the following questions pertaining to Women:\n",
    "- Geography of the respondents\n",
    "- Percentage of the respondents Male / female ratio\n",
    "- Then focus on the US\n",
    "- Profession, MajorUndergrad, YearsProgram, DeveloperType, CareerSatisfaction, JobSatisfaction\n",
    "- ExCoder (ExCoderReturn, ExCoder10years) questions - very very interesting\n",
    "- UnderstandComputers\n",
    "- Their salary and expected salary\n",
    "- Their experience\n",
    "- Hiring experience\n",
    "\n",
    "#### Data understanding\n",
    "\n",
    "There are two files in the dataset survey_results_public.csv (shape (51392, 154)) and survey_results_schema.csv (shape (154,2)) which should be analyzed. There are seven Numerical columns and 147 Categorical columns.\n",
    "\n",
    "##### Null data\n",
    "There are following categorical columns counts where % of missing data per each row is as follows:\n",
    "- Rows >0.05 is null:  8\n",
    "- 0.5<Rows<0.75  is null:  37\n",
    "- Rows >0.75 is null:  14\n",
    "In other words, there are 51 categorical columns where more than 50% of information is missing\n",
    "\n",
    "There are following numerical columns counts where % of missing data per each row is as follows:\n",
    "\n",
    "- Respondent                   0.000000\n",
    "- CareerSatisfaction           0.169229\n",
    "- JobSatisfaction              0.214352\n",
    "- HoursPerWeek                 0.599159\n",
    "- StackOverflowSatisfaction    0.287983\n",
    "- Salary                       0.749163\n",
    "- ExpectedSalary               0.950070\n",
    "\n",
    "###### Quite high number of columns have null values and it should be taken into account for analysis purposes\n"
   ]
  },
  {
   "cell_type": "markdown",
   "metadata": {},
   "source": [
    "Salary has a very high number of missing fields, 75%. This is a pretty important information and it may have a pretty serious effect on analysis.\n",
    "Respondent has no missing information and basically, it can be treated as an index, as each respondent must had been assigned a specific number by the system. "
   ]
  },
  {
   "cell_type": "code",
   "execution_count": 103,
   "metadata": {
    "scrolled": true
   },
   "outputs": [
    {
     "data": {
      "text/plain": [
       "'from platform import python_version\\nprint(python_version())\\n!conda env list\\n!jupyter kernelspec list\\n'"
      ]
     },
     "execution_count": 103,
     "metadata": {},
     "output_type": "execute_result"
    }
   ],
   "source": [
    "# Some commands to make sure the right virtual environment is used\n",
    "'''from platform import python_version\n",
    "print(python_version())\n",
    "!conda env list\n",
    "!jupyter kernelspec list\n",
    "'''"
   ]
  },
  {
   "cell_type": "code",
   "execution_count": 237,
   "metadata": {},
   "outputs": [],
   "source": [
    "import numpy as np\n",
    "import pandas as pd\n",
    "import matplotlib.pyplot as plt\n",
    "from IPython.display import display, HTML\n",
    "import seaborn as sns\n",
    "%matplotlib inline"
   ]
  },
  {
   "cell_type": "code",
   "execution_count": 416,
   "metadata": {
    "scrolled": false
   },
   "outputs": [
    {
     "data": {
      "text/html": [
       "<div>\n",
       "<style scoped>\n",
       "    .dataframe tbody tr th:only-of-type {\n",
       "        vertical-align: middle;\n",
       "    }\n",
       "\n",
       "    .dataframe tbody tr th {\n",
       "        vertical-align: top;\n",
       "    }\n",
       "\n",
       "    .dataframe thead th {\n",
       "        text-align: right;\n",
       "    }\n",
       "</style>\n",
       "<table border=\"1\" class=\"dataframe\">\n",
       "  <thead>\n",
       "    <tr style=\"text-align: right;\">\n",
       "      <th></th>\n",
       "      <th>Respondent</th>\n",
       "      <th>Professional</th>\n",
       "      <th>ProgramHobby</th>\n",
       "      <th>Country</th>\n",
       "      <th>University</th>\n",
       "      <th>EmploymentStatus</th>\n",
       "      <th>FormalEducation</th>\n",
       "      <th>MajorUndergrad</th>\n",
       "      <th>HomeRemote</th>\n",
       "      <th>CompanySize</th>\n",
       "      <th>...</th>\n",
       "      <th>StackOverflowMakeMoney</th>\n",
       "      <th>Gender</th>\n",
       "      <th>HighestEducationParents</th>\n",
       "      <th>Race</th>\n",
       "      <th>SurveyLong</th>\n",
       "      <th>QuestionsInteresting</th>\n",
       "      <th>QuestionsConfusing</th>\n",
       "      <th>InterestedAnswers</th>\n",
       "      <th>Salary</th>\n",
       "      <th>ExpectedSalary</th>\n",
       "    </tr>\n",
       "  </thead>\n",
       "  <tbody>\n",
       "    <tr>\n",
       "      <th>0</th>\n",
       "      <td>1</td>\n",
       "      <td>Student</td>\n",
       "      <td>Yes, both</td>\n",
       "      <td>United States</td>\n",
       "      <td>No</td>\n",
       "      <td>Not employed, and not looking for work</td>\n",
       "      <td>Secondary school</td>\n",
       "      <td>NaN</td>\n",
       "      <td>NaN</td>\n",
       "      <td>NaN</td>\n",
       "      <td>...</td>\n",
       "      <td>Strongly disagree</td>\n",
       "      <td>Male</td>\n",
       "      <td>High school</td>\n",
       "      <td>White or of European descent</td>\n",
       "      <td>Strongly disagree</td>\n",
       "      <td>Strongly agree</td>\n",
       "      <td>Disagree</td>\n",
       "      <td>Strongly agree</td>\n",
       "      <td>NaN</td>\n",
       "      <td>NaN</td>\n",
       "    </tr>\n",
       "    <tr>\n",
       "      <th>1</th>\n",
       "      <td>2</td>\n",
       "      <td>Student</td>\n",
       "      <td>Yes, both</td>\n",
       "      <td>United Kingdom</td>\n",
       "      <td>Yes, full-time</td>\n",
       "      <td>Employed part-time</td>\n",
       "      <td>Some college/university study without earning ...</td>\n",
       "      <td>Computer science or software engineering</td>\n",
       "      <td>More than half, but not all, the time</td>\n",
       "      <td>20 to 99 employees</td>\n",
       "      <td>...</td>\n",
       "      <td>Strongly disagree</td>\n",
       "      <td>Male</td>\n",
       "      <td>A master's degree</td>\n",
       "      <td>White or of European descent</td>\n",
       "      <td>Somewhat agree</td>\n",
       "      <td>Somewhat agree</td>\n",
       "      <td>Disagree</td>\n",
       "      <td>Strongly agree</td>\n",
       "      <td>NaN</td>\n",
       "      <td>37500.0</td>\n",
       "    </tr>\n",
       "    <tr>\n",
       "      <th>2</th>\n",
       "      <td>3</td>\n",
       "      <td>Professional developer</td>\n",
       "      <td>Yes, both</td>\n",
       "      <td>United Kingdom</td>\n",
       "      <td>No</td>\n",
       "      <td>Employed full-time</td>\n",
       "      <td>Bachelor's degree</td>\n",
       "      <td>Computer science or software engineering</td>\n",
       "      <td>Less than half the time, but at least one day ...</td>\n",
       "      <td>10,000 or more employees</td>\n",
       "      <td>...</td>\n",
       "      <td>Disagree</td>\n",
       "      <td>Male</td>\n",
       "      <td>A professional degree</td>\n",
       "      <td>White or of European descent</td>\n",
       "      <td>Somewhat agree</td>\n",
       "      <td>Agree</td>\n",
       "      <td>Disagree</td>\n",
       "      <td>Agree</td>\n",
       "      <td>113750.0</td>\n",
       "      <td>NaN</td>\n",
       "    </tr>\n",
       "    <tr>\n",
       "      <th>3</th>\n",
       "      <td>4</td>\n",
       "      <td>Professional non-developer who sometimes write...</td>\n",
       "      <td>Yes, both</td>\n",
       "      <td>United States</td>\n",
       "      <td>No</td>\n",
       "      <td>Employed full-time</td>\n",
       "      <td>Doctoral degree</td>\n",
       "      <td>A non-computer-focused engineering discipline</td>\n",
       "      <td>Less than half the time, but at least one day ...</td>\n",
       "      <td>10,000 or more employees</td>\n",
       "      <td>...</td>\n",
       "      <td>Disagree</td>\n",
       "      <td>Male</td>\n",
       "      <td>A doctoral degree</td>\n",
       "      <td>White or of European descent</td>\n",
       "      <td>Agree</td>\n",
       "      <td>Agree</td>\n",
       "      <td>Somewhat agree</td>\n",
       "      <td>Strongly agree</td>\n",
       "      <td>NaN</td>\n",
       "      <td>NaN</td>\n",
       "    </tr>\n",
       "    <tr>\n",
       "      <th>4</th>\n",
       "      <td>5</td>\n",
       "      <td>Professional developer</td>\n",
       "      <td>Yes, I program as a hobby</td>\n",
       "      <td>Switzerland</td>\n",
       "      <td>No</td>\n",
       "      <td>Employed full-time</td>\n",
       "      <td>Master's degree</td>\n",
       "      <td>Computer science or software engineering</td>\n",
       "      <td>Never</td>\n",
       "      <td>10 to 19 employees</td>\n",
       "      <td>...</td>\n",
       "      <td>NaN</td>\n",
       "      <td>NaN</td>\n",
       "      <td>NaN</td>\n",
       "      <td>NaN</td>\n",
       "      <td>NaN</td>\n",
       "      <td>NaN</td>\n",
       "      <td>NaN</td>\n",
       "      <td>NaN</td>\n",
       "      <td>NaN</td>\n",
       "      <td>NaN</td>\n",
       "    </tr>\n",
       "  </tbody>\n",
       "</table>\n",
       "<p>5 rows × 154 columns</p>\n",
       "</div>"
      ],
      "text/plain": [
       "   Respondent                                       Professional  \\\n",
       "0           1                                            Student   \n",
       "1           2                                            Student   \n",
       "2           3                             Professional developer   \n",
       "3           4  Professional non-developer who sometimes write...   \n",
       "4           5                             Professional developer   \n",
       "\n",
       "                ProgramHobby         Country      University  \\\n",
       "0                  Yes, both   United States              No   \n",
       "1                  Yes, both  United Kingdom  Yes, full-time   \n",
       "2                  Yes, both  United Kingdom              No   \n",
       "3                  Yes, both   United States              No   \n",
       "4  Yes, I program as a hobby     Switzerland              No   \n",
       "\n",
       "                         EmploymentStatus  \\\n",
       "0  Not employed, and not looking for work   \n",
       "1                      Employed part-time   \n",
       "2                      Employed full-time   \n",
       "3                      Employed full-time   \n",
       "4                      Employed full-time   \n",
       "\n",
       "                                     FormalEducation  \\\n",
       "0                                   Secondary school   \n",
       "1  Some college/university study without earning ...   \n",
       "2                                  Bachelor's degree   \n",
       "3                                    Doctoral degree   \n",
       "4                                    Master's degree   \n",
       "\n",
       "                                  MajorUndergrad  \\\n",
       "0                                            NaN   \n",
       "1       Computer science or software engineering   \n",
       "2       Computer science or software engineering   \n",
       "3  A non-computer-focused engineering discipline   \n",
       "4       Computer science or software engineering   \n",
       "\n",
       "                                          HomeRemote  \\\n",
       "0                                                NaN   \n",
       "1              More than half, but not all, the time   \n",
       "2  Less than half the time, but at least one day ...   \n",
       "3  Less than half the time, but at least one day ...   \n",
       "4                                              Never   \n",
       "\n",
       "                CompanySize  ... StackOverflowMakeMoney Gender  \\\n",
       "0                       NaN  ...      Strongly disagree   Male   \n",
       "1        20 to 99 employees  ...      Strongly disagree   Male   \n",
       "2  10,000 or more employees  ...               Disagree   Male   \n",
       "3  10,000 or more employees  ...               Disagree   Male   \n",
       "4        10 to 19 employees  ...                    NaN    NaN   \n",
       "\n",
       "  HighestEducationParents                          Race         SurveyLong  \\\n",
       "0             High school  White or of European descent  Strongly disagree   \n",
       "1       A master's degree  White or of European descent     Somewhat agree   \n",
       "2   A professional degree  White or of European descent     Somewhat agree   \n",
       "3       A doctoral degree  White or of European descent              Agree   \n",
       "4                     NaN                           NaN                NaN   \n",
       "\n",
       "  QuestionsInteresting QuestionsConfusing InterestedAnswers    Salary  \\\n",
       "0       Strongly agree           Disagree    Strongly agree       NaN   \n",
       "1       Somewhat agree           Disagree    Strongly agree       NaN   \n",
       "2                Agree           Disagree             Agree  113750.0   \n",
       "3                Agree     Somewhat agree    Strongly agree       NaN   \n",
       "4                  NaN                NaN               NaN       NaN   \n",
       "\n",
       "   ExpectedSalary  \n",
       "0             NaN  \n",
       "1         37500.0  \n",
       "2             NaN  \n",
       "3             NaN  \n",
       "4             NaN  \n",
       "\n",
       "[5 rows x 154 columns]"
      ]
     },
     "execution_count": 416,
     "metadata": {},
     "output_type": "execute_result"
    }
   ],
   "source": [
    "\n",
    "df = pd.read_csv('survey_results_public.csv')\n",
    "df.head()"
   ]
  },
  {
   "cell_type": "code",
   "execution_count": 29,
   "metadata": {},
   "outputs": [
    {
     "name": "stdout",
     "output_type": "stream",
     "text": [
      "(51392, 154)\n"
     ]
    }
   ],
   "source": [
    "print (df.shape)"
   ]
  },
  {
   "cell_type": "code",
   "execution_count": 39,
   "metadata": {},
   "outputs": [
    {
     "name": "stdout",
     "output_type": "stream",
     "text": [
      "Numerical columns:  7\n",
      "Categorical columns: 147\n"
     ]
    }
   ],
   "source": [
    "# calculating the number of columns with numerical and categorical data \n",
    "print ('Numerical columns: ',len(df._get_numeric_data().columns))\n",
    "print ('Categorical columns:',(len(df.columns)-len(df._get_numeric_data().columns)))"
   ]
  },
  {
   "cell_type": "code",
   "execution_count": 40,
   "metadata": {},
   "outputs": [
    {
     "name": "stdout",
     "output_type": "stream",
     "text": [
      "(51392, 7)\n"
     ]
    }
   ],
   "source": [
    "# getting the numerical and categorical df's\n",
    "df_num = df._get_numeric_data()\n",
    "print (df_num.shape)"
   ]
  },
  {
   "cell_type": "code",
   "execution_count": 63,
   "metadata": {
    "scrolled": true
   },
   "outputs": [
    {
     "data": {
      "text/plain": [
       "Index(['Respondent', 'CareerSatisfaction', 'JobSatisfaction', 'HoursPerWeek',\n",
       "       'StackOverflowSatisfaction', 'Salary', 'ExpectedSalary'],\n",
       "      dtype='object')"
      ]
     },
     "execution_count": 63,
     "metadata": {},
     "output_type": "execute_result"
    }
   ],
   "source": [
    "df._get_numeric_data().columns"
   ]
  },
  {
   "cell_type": "code",
   "execution_count": 67,
   "metadata": {},
   "outputs": [],
   "source": [
    "# creating a df with categorical data\n",
    "df_cat = pd.DataFrame()\n",
    "for columns in df.columns:\n",
    "    if columns not in  df._get_numeric_data().columns:\n",
    "        df_cat[columns] = df[columns]\n",
    "    "
   ]
  },
  {
   "cell_type": "code",
   "execution_count": 375,
   "metadata": {
    "scrolled": true
   },
   "outputs": [
    {
     "data": {
      "text/plain": [
       "Index(['Professional', 'ProgramHobby', 'Country', 'University',\n",
       "       'EmploymentStatus', 'FormalEducation', 'MajorUndergrad', 'HomeRemote',\n",
       "       'CompanySize', 'CompanyType',\n",
       "       ...\n",
       "       'StackOverflowBetter', 'StackOverflowWhatDo', 'StackOverflowMakeMoney',\n",
       "       'Gender', 'HighestEducationParents', 'Race', 'SurveyLong',\n",
       "       'QuestionsInteresting', 'QuestionsConfusing', 'InterestedAnswers'],\n",
       "      dtype='object', length=147)"
      ]
     },
     "execution_count": 375,
     "metadata": {},
     "output_type": "execute_result"
    }
   ],
   "source": [
    "df_cat.columns"
   ]
  },
  {
   "cell_type": "markdown",
   "metadata": {},
   "source": [
    "The results of the below code are described in data understanding part"
   ]
  },
  {
   "cell_type": "code",
   "execution_count": 95,
   "metadata": {},
   "outputs": [
    {
     "name": "stdout",
     "output_type": "stream",
     "text": [
      "Rows >0.05 is null:  8\n",
      "0.5<Rows<0.75  is null:  37\n",
      "Rows >0.75 is null:  14\n"
     ]
    }
   ],
   "source": [
    "# percent of null rows per each categorical column\n",
    "df_cat.isnull().sum()/df_cat.isnull().count()\n",
    "print ('Rows >0.05 is null: ', np.sum(df_cat.isnull().sum()/df_cat.isnull().count()<0.05))\n",
    "\n",
    "#number of columns where percent of null rows is more than 50%\n",
    "print ('0.5<Rows<0.75  is null: ', np.sum((df_cat.isnull().sum()/df_cat.isnull().count()>0.5)&(df_cat.isnull().sum()\n",
    "                                                                    /df_cat.isnull().count()<0.75)))\n",
    "#number of columns where percent of null rows is more than 75%\n",
    "print ('Rows >0.75 is null: ', np.sum(df_cat.isnull().sum()/df_cat.isnull().count()>0.7))\n"
   ]
  },
  {
   "cell_type": "code",
   "execution_count": 101,
   "metadata": {},
   "outputs": [
    {
     "data": {
      "text/plain": [
       "Respondent                   0.000000\n",
       "CareerSatisfaction           0.169229\n",
       "JobSatisfaction              0.214352\n",
       "HoursPerWeek                 0.599159\n",
       "StackOverflowSatisfaction    0.287983\n",
       "Salary                       0.749163\n",
       "ExpectedSalary               0.950070\n",
       "dtype: float64"
      ]
     },
     "execution_count": 101,
     "metadata": {},
     "output_type": "execute_result"
    }
   ],
   "source": [
    "# percent of null rows per each numerical column\n",
    "df_num.isnull().sum()/df_num.isnull().count()"
   ]
  },
  {
   "cell_type": "code",
   "execution_count": 111,
   "metadata": {},
   "outputs": [],
   "source": [
    "# lets wrap the above calculation of missing values in the columns to the function\n",
    "def na_per_col(df, col):\n",
    "    #calculates the missing values per column (col) in the dataframe (df)'\n",
    "    return df[col].isnull().sum()/df[col].isnull().count()"
   ]
  },
  {
   "cell_type": "code",
   "execution_count": 200,
   "metadata": {},
   "outputs": [
    {
     "data": {
      "text/plain": [
       "0.7491632938978829"
      ]
     },
     "execution_count": 200,
     "metadata": {},
     "output_type": "execute_result"
    }
   ],
   "source": [
    "# perecnt of na values in Salary column\n",
    "na_per_col(df, 'Salary')"
   ]
  },
  {
   "cell_type": "code",
   "execution_count": 31,
   "metadata": {},
   "outputs": [],
   "source": [
    "# What is the schema file?\n",
    "df_schema = pd.read_csv('survey_results_schema.csv')"
   ]
  },
  {
   "cell_type": "code",
   "execution_count": 113,
   "metadata": {
    "scrolled": true
   },
   "outputs": [
    {
     "data": {
      "text/html": [
       "<div>\n",
       "<style scoped>\n",
       "    .dataframe tbody tr th:only-of-type {\n",
       "        vertical-align: middle;\n",
       "    }\n",
       "\n",
       "    .dataframe tbody tr th {\n",
       "        vertical-align: top;\n",
       "    }\n",
       "\n",
       "    .dataframe thead th {\n",
       "        text-align: right;\n",
       "    }\n",
       "</style>\n",
       "<table border=\"1\" class=\"dataframe\">\n",
       "  <thead>\n",
       "    <tr style=\"text-align: right;\">\n",
       "      <th></th>\n",
       "      <th>Column</th>\n",
       "      <th>Question</th>\n",
       "    </tr>\n",
       "  </thead>\n",
       "  <tbody>\n",
       "    <tr>\n",
       "      <th>0</th>\n",
       "      <td>Respondent</td>\n",
       "      <td>Respondent ID number</td>\n",
       "    </tr>\n",
       "    <tr>\n",
       "      <th>1</th>\n",
       "      <td>Professional</td>\n",
       "      <td>Which of the following best describes you?</td>\n",
       "    </tr>\n",
       "  </tbody>\n",
       "</table>\n",
       "</div>"
      ],
      "text/plain": [
       "         Column                                    Question\n",
       "0    Respondent                        Respondent ID number\n",
       "1  Professional  Which of the following best describes you?"
      ]
     },
     "execution_count": 113,
     "metadata": {},
     "output_type": "execute_result"
    }
   ],
   "source": [
    "# Schema file contains detailed formulation of the quesion\n",
    "df_schema.head(2)"
   ]
  },
  {
   "cell_type": "code",
   "execution_count": 127,
   "metadata": {},
   "outputs": [],
   "source": [
    "# Lets create a function returning the question related to the column\n",
    "def question(df,column):\n",
    "    return list(df_schema['Question'][df_schema['Column']==column])[0]\n",
    "    pass"
   ]
  },
  {
   "cell_type": "code",
   "execution_count": 133,
   "metadata": {},
   "outputs": [
    {
     "data": {
      "text/plain": [
       "'What is your current annual base salary, before taxes, and excluding bonuses, grants, or other compensation?'"
      ]
     },
     "execution_count": 133,
     "metadata": {},
     "output_type": "execute_result"
    }
   ],
   "source": [
    "# Question related to Salary column\n",
    "question(df,'Salary')"
   ]
  },
  {
   "cell_type": "markdown",
   "metadata": {},
   "source": [
    "#### Data related to women in Gender column"
   ]
  },
  {
   "cell_type": "code",
   "execution_count": 130,
   "metadata": {},
   "outputs": [
    {
     "data": {
      "text/plain": [
       "'Which of the following do you currently identify as?'"
      ]
     },
     "execution_count": 130,
     "metadata": {},
     "output_type": "execute_result"
    }
   ],
   "source": [
    "question(df,'Gender')"
   ]
  },
  {
   "cell_type": "markdown",
   "metadata": {},
   "source": [
    "Percentage of null in Gender column - 31.8%"
   ]
  },
  {
   "cell_type": "code",
   "execution_count": 132,
   "metadata": {},
   "outputs": [
    {
     "data": {
      "text/plain": [
       "0.3180456102117061"
      ]
     },
     "execution_count": 132,
     "metadata": {},
     "output_type": "execute_result"
    }
   ],
   "source": [
    "na_per_col(df, 'Gender')"
   ]
  },
  {
   "cell_type": "markdown",
   "metadata": {},
   "source": [
    "Values in gender columns, there are quite a few genders and we will initially focus on Woman gender"
   ]
  },
  {
   "cell_type": "code",
   "execution_count": 131,
   "metadata": {
    "scrolled": false
   },
   "outputs": [
    {
     "data": {
      "text/plain": [
       "Male                                                       31589\n",
       "Female                                                      2600\n",
       "Other                                                        225\n",
       "Male; Other                                                  171\n",
       "Gender non-conforming                                        160\n",
       "Male; Gender non-conforming                                   65\n",
       "Female; Transgender                                           56\n",
       "Transgender                                                   55\n",
       "Female; Gender non-conforming                                 29\n",
       "Male; Female; Transgender; Gender non-conforming; Other       15\n",
       "Transgender; Gender non-conforming                            15\n",
       "Male; Female                                                  15\n",
       "Male; Transgender                                             11\n",
       "Female; Transgender; Gender non-conforming                     8\n",
       "Male; Female; Transgender; Gender non-conforming               7\n",
       "Male; Female; Transgender                                      4\n",
       "Male; Transgender; Gender non-conforming                       4\n",
       "Gender non-conforming; Other                                   4\n",
       "Male; Gender non-conforming; Other                             3\n",
       "Male; Female; Other                                            2\n",
       "Male; Female; Gender non-conforming                            1\n",
       "Male; Female; Gender non-conforming; Other                     1\n",
       "Female; Gender non-conforming; Other                           1\n",
       "Male; Transgender; Other                                       1\n",
       "Female; Other                                                  1\n",
       "Female; Transgender; Gender non-conforming; Other              1\n",
       "Transgender; Other                                             1\n",
       "Male; Female; Transgender; Other                               1\n",
       "Female; Transgender; Other                                     1\n",
       "Name: Gender, dtype: int64"
      ]
     },
     "execution_count": 131,
     "metadata": {},
     "output_type": "execute_result"
    }
   ],
   "source": [
    "df['Gender'].value_counts()"
   ]
  },
  {
   "cell_type": "code",
   "execution_count": 520,
   "metadata": {},
   "outputs": [
    {
     "data": {
      "text/plain": [
       "Male                     0.901332\n",
       "Female                   0.074186\n",
       "Other                    0.006420\n",
       "Male; Other              0.004879\n",
       "Gender non-conforming    0.004565\n",
       "Name: Gender, dtype: float64"
      ]
     },
     "execution_count": 520,
     "metadata": {},
     "output_type": "execute_result"
    }
   ],
   "source": [
    "# percentage format for visualization\n",
    "(df['Gender'].value_counts()/df['Gender'].count()).head()"
   ]
  },
  {
   "cell_type": "markdown",
   "metadata": {},
   "source": [
    "Ratios of females to all genders and to males"
   ]
  },
  {
   "cell_type": "code",
   "execution_count": 142,
   "metadata": {
    "scrolled": true
   },
   "outputs": [
    {
     "name": "stdout",
     "output_type": "stream",
     "text": [
      "Female to all genders ratio:  0.0741860929608811\n",
      "Female to male ratio : 0.08230713222957359\n"
     ]
    }
   ],
   "source": [
    "print ('Female to all genders ratio: ',df['Gender'][df['Gender']=='Female'].count()/df['Gender'].count())\n",
    "print('Female to male ratio :',df['Gender'][df['Gender']=='Female'].count()/df['Gender'][df['Gender']=='Male'].count())"
   ]
  },
  {
   "cell_type": "code",
   "execution_count": 598,
   "metadata": {},
   "outputs": [],
   "source": [
    "# Playing with countplots\n",
    "#df_gb = df.groupby(['Gender','JobSatisfaction'])['Respondent'].count().unstack()\n",
    "#sns.barplot(data=df_gb)\n"
   ]
  },
  {
   "cell_type": "code",
   "execution_count": 612,
   "metadata": {},
   "outputs": [],
   "source": [
    "#second version of the function which slices a bigger dataset\n",
    "def countplot2(df1,title,n):\n",
    "    '''\n",
    "    df : a column sliced from a dataframe for value_count\n",
    "    title - the title of the chart\n",
    "    returns the count plot of each attribute in chosen column\n",
    "    n - number of columns\n",
    "    '''\n",
    "    ratio = df1.value_counts()/df1.count() #df1.shape[0]\n",
    "    df = pd.DataFrame(pd.Series(ratio)).reset_index()\n",
    "    df.columns = ['type','ratio']\n",
    "    print(df.head(min(10,len(ratio))))\n",
    "    ratio[:min(n,len(ratio))].plot(kind='bar')\n",
    "\n",
    "    plt.title(title)\n",
    "    plt.grid(axis='x',linestyle='--')\n",
    "    plt.ylabel('Percentage')\n",
    "    plt.xticks(rotation = 40)"
   ]
  },
  {
   "cell_type": "markdown",
   "metadata": {},
   "source": [
    "#### Function for plotting Male vs Female differences"
   ]
  },
  {
   "cell_type": "code",
   "execution_count": 561,
   "metadata": {},
   "outputs": [],
   "source": [
    "def male_vs_female(df,col,title):\n",
    "    '''\n",
    "    df: a dataframe containing all the data\n",
    "    col: a column with categorical data\n",
    "    title: title for the chart where automatically adds  Male minus Female string\n",
    "    returns the count plot plus title \n",
    "    '''\n",
    "    #lets calculate the ratio of value counts for each gender and then the difference between them\n",
    "    df_ml = df[col][df['Gender']=='Male'].value_counts()/df[col][df['Gender']=='Male'].count()\n",
    "    df_fm = df[col][df['Gender']=='Female'].value_counts()/df[col][df['Gender']=='Female'].count()\n",
    "    ratio = df_ml-df_fm\n",
    "    df = pd.DataFrame(pd.Series(ratio)).reset_index()\n",
    "    df.columns = ['rating','delta']\n",
    "    print(df.head(min(10,len(ratio))))\n",
    "    ratio[:min(2,len(ratio))].plot(kind='bar')\n",
    "\n",
    "    plt.title(title+' Male minus Female')\n",
    "    plt.grid(axis='x',linestyle='--')\n",
    "    plt.ylabel('Percentage delta')\n",
    "    plt.xticks(rotation = 40)\n",
    "    \n"
   ]
  },
  {
   "cell_type": "code",
   "execution_count": 628,
   "metadata": {},
   "outputs": [],
   "source": []
  },
  {
   "cell_type": "code",
   "execution_count": 661,
   "metadata": {
    "scrolled": false
   },
   "outputs": [
    {
     "data": {
      "text/plain": [
       "''"
      ]
     },
     "execution_count": 661,
     "metadata": {},
     "output_type": "execute_result"
    },
    {
     "data": {
      "image/png": "[encoded data removed]",
      "text/plain": [
       "<Figure size 1728x648 with 1 Axes>"
      ]
     },
     "metadata": {
      "needs_background": "light"
     },
     "output_type": "display_data"
    }
   ],
   "source": [
    "# distribution of genders, log file\n",
    "plt.figure(figsize=(24, 9))\n",
    "gr = sns.countplot( data=df['Gender'].value_counts()/df['Gender'].count(),\n",
    "        x=df['Gender'], log=True );\n",
    "gr.set_xticklabels(gr.get_xticklabels(), rotation=40, ha=\"right\")\n",
    ";\n",
    "\n"
   ]
  },
  {
   "cell_type": "code",
   "execution_count": 528,
   "metadata": {},
   "outputs": [
    {
     "data": {
      "text/plain": [
       "Male                                                       0.901332\n",
       "Female                                                     0.074186\n",
       "Other                                                      0.006420\n",
       "Male; Other                                                0.004879\n",
       "Gender non-conforming                                      0.004565\n",
       "Male; Gender non-conforming                                0.001855\n",
       "Female; Transgender                                        0.001598\n",
       "Transgender                                                0.001569\n",
       "Female; Gender non-conforming                              0.000827\n",
       "Male; Female; Transgender; Gender non-conforming; Other    0.000428\n",
       "Transgender; Gender non-conforming                         0.000428\n",
       "Male; Female                                               0.000428\n",
       "Male; Transgender                                          0.000314\n",
       "Female; Transgender; Gender non-conforming                 0.000228\n",
       "Male; Female; Transgender; Gender non-conforming           0.000200\n",
       "Male; Female; Transgender                                  0.000114\n",
       "Male; Transgender; Gender non-conforming                   0.000114\n",
       "Gender non-conforming; Other                               0.000114\n",
       "Male; Gender non-conforming; Other                         0.000086\n",
       "Male; Female; Other                                        0.000057\n",
       "Male; Female; Gender non-conforming                        0.000029\n",
       "Male; Female; Gender non-conforming; Other                 0.000029\n",
       "Female; Gender non-conforming; Other                       0.000029\n",
       "Male; Transgender; Other                                   0.000029\n",
       "Female; Other                                              0.000029\n",
       "Female; Transgender; Gender non-conforming; Other          0.000029\n",
       "Transgender; Other                                         0.000029\n",
       "Male; Female; Transgender; Other                           0.000029\n",
       "Female; Transgender; Other                                 0.000029\n",
       "Name: Gender, dtype: float64"
      ]
     },
     "execution_count": 528,
     "metadata": {},
     "output_type": "execute_result"
    }
   ],
   "source": [
    "df['Gender'].value_counts()/df['Gender'].count()"
   ]
  },
  {
   "cell_type": "code",
   "execution_count": 614,
   "metadata": {},
   "outputs": [
    {
     "name": "stdout",
     "output_type": "stream",
     "text": [
      "                                                type     ratio\n",
      "0                                               Male  0.901332\n",
      "1                                             Female  0.074186\n",
      "2                                              Other  0.006420\n",
      "3                                        Male; Other  0.004879\n",
      "4                              Gender non-conforming  0.004565\n",
      "5                        Male; Gender non-conforming  0.001855\n",
      "6                                Female; Transgender  0.001598\n",
      "7                                        Transgender  0.001569\n",
      "8                      Female; Gender non-conforming  0.000827\n",
      "9  Male; Female; Transgender; Gender non-conformi...  0.000428\n"
     ]
    },
    {
     "data": {
      "image/png": "[encoded data removed]",
      "text/plain": [
       "<Figure size 432x288 with 1 Axes>"
      ]
     },
     "metadata": {
      "needs_background": "light"
     },
     "output_type": "display_data"
    }
   ],
   "source": [
    "countplot2(df['Gender'],'Gender distribution',2)\n"
   ]
  },
  {
   "cell_type": "markdown",
   "metadata": {},
   "source": [
    "Countplot for distribution of males vs females without considering other data"
   ]
  },
  {
   "cell_type": "code",
   "execution_count": 615,
   "metadata": {},
   "outputs": [
    {
     "name": "stdout",
     "output_type": "stream",
     "text": [
      "     type     ratio\n",
      "0    Male  0.923952\n",
      "1  Female  0.076048\n"
     ]
    },
    {
     "data": {
      "image/png": "[encoded data removed]",
      "text/plain": [
       "<Figure size 432x288 with 1 Axes>"
      ]
     },
     "metadata": {
      "needs_background": "light"
     },
     "output_type": "display_data"
    }
   ],
   "source": [
    "# Percentage distribution of Male only vs Female only\n",
    "countplot2(df['Gender'][(df['Gender'] =='Male')|(df['Gender']=='Female')],'Male vs Female',2)"
   ]
  },
  {
   "cell_type": "code",
   "execution_count": 254,
   "metadata": {},
   "outputs": [
    {
     "data": {
      "image/png": "[encoded data removed]",
      "text/plain": [
       "<Figure size 432x288 with 1 Axes>"
      ]
     },
     "metadata": {
      "needs_background": "light"
     },
     "output_type": "display_data"
    }
   ],
   "source": [
    "# absolute distribution of Male only vs Female only\n",
    "gr = sns.countplot(data = df['Gender'][(df['Gender'] =='Male')|(df['Gender']=='Female')].value_counts(), \n",
    "        x=df['Gender'][(df['Gender'] =='Male')|(df['Gender']=='Female')] );\n",
    "\n",
    "gr.set_xticklabels(gr.get_xticklabels(), rotation=40, ha=\"right\");"
   ]
  },
  {
   "cell_type": "markdown",
   "metadata": {},
   "source": [
    "Calculating the missing values in gender columns"
   ]
  },
  {
   "cell_type": "code",
   "execution_count": 199,
   "metadata": {
    "scrolled": true
   },
   "outputs": [
    {
     "data": {
      "text/plain": [
       "ExCoderWillNotCode    0.980769\n",
       "YearsCodedJobPast     0.980385\n",
       "ExCoderBalance        0.980385\n",
       "ExCoderBelonged       0.980000\n",
       "ExCoder10Years        0.980000\n",
       "dtype: float64"
      ]
     },
     "execution_count": 199,
     "metadata": {},
     "output_type": "execute_result"
    }
   ],
   "source": [
    "ord_d = df[df['Gender']=='Female'].isnull().sum()/df[df['Gender']=='Female'].isnull().count()\n",
    "ord_d.sort_values(ascending = False).head()\n"
   ]
  },
  {
   "cell_type": "markdown",
   "metadata": {},
   "source": [
    "Lets figure the difference in missing values for Males and Females. Missing values may be a good indicator of where the respondent is filling uncomrotable in sharing with information. I calculated the difference in %.\n",
    "##### For some reason, there are much more nulls in % in Male vs Female answers in MajorUndergrad, HighestEducationParents, CompanySize and CompanyType."
   ]
  },
  {
   "cell_type": "code",
   "execution_count": 212,
   "metadata": {
    "scrolled": false
   },
   "outputs": [
    {
     "name": "stdout",
     "output_type": "stream",
     "text": [
      "Top missing values % difference, Male over female: \n"
     ]
    },
    {
     "data": {
      "text/html": [
       "<div>\n",
       "<style scoped>\n",
       "    .dataframe tbody tr th:only-of-type {\n",
       "        vertical-align: middle;\n",
       "    }\n",
       "\n",
       "    .dataframe tbody tr th {\n",
       "        vertical-align: top;\n",
       "    }\n",
       "\n",
       "    .dataframe thead th {\n",
       "        text-align: right;\n",
       "    }\n",
       "</style>\n",
       "<table border=\"1\" class=\"dataframe\">\n",
       "  <thead>\n",
       "    <tr style=\"text-align: right;\">\n",
       "      <th></th>\n",
       "      <th>diff_perc</th>\n",
       "      <th>Male minus Female</th>\n",
       "      <th>Male_nulls</th>\n",
       "      <th>Female_nulls</th>\n",
       "      <th>Male_perc</th>\n",
       "      <th>Female_perc</th>\n",
       "    </tr>\n",
       "  </thead>\n",
       "  <tbody>\n",
       "    <tr>\n",
       "      <th>MajorUndergrad</th>\n",
       "      <td>0.558053</td>\n",
       "      <td>4477</td>\n",
       "      <td>4646</td>\n",
       "      <td>169</td>\n",
       "      <td>0.147077</td>\n",
       "      <td>0.065000</td>\n",
       "    </tr>\n",
       "    <tr>\n",
       "      <th>HighestEducationParents</th>\n",
       "      <td>0.228596</td>\n",
       "      <td>354</td>\n",
       "      <td>378</td>\n",
       "      <td>24</td>\n",
       "      <td>0.011966</td>\n",
       "      <td>0.009231</td>\n",
       "    </tr>\n",
       "    <tr>\n",
       "      <th>CompanySize</th>\n",
       "      <td>0.222065</td>\n",
       "      <td>6578</td>\n",
       "      <td>7028</td>\n",
       "      <td>450</td>\n",
       "      <td>0.222483</td>\n",
       "      <td>0.173077</td>\n",
       "    </tr>\n",
       "    <tr>\n",
       "      <th>CompanyType</th>\n",
       "      <td>0.219765</td>\n",
       "      <td>6601</td>\n",
       "      <td>7054</td>\n",
       "      <td>453</td>\n",
       "      <td>0.223306</td>\n",
       "      <td>0.174231</td>\n",
       "    </tr>\n",
       "    <tr>\n",
       "      <th>ClickyKeys</th>\n",
       "      <td>0.196720</td>\n",
       "      <td>226</td>\n",
       "      <td>242</td>\n",
       "      <td>16</td>\n",
       "      <td>0.007661</td>\n",
       "      <td>0.006154</td>\n",
       "    </tr>\n",
       "    <tr>\n",
       "      <th>JobProfile</th>\n",
       "      <td>0.174061</td>\n",
       "      <td>12531</td>\n",
       "      <td>13445</td>\n",
       "      <td>914</td>\n",
       "      <td>0.425623</td>\n",
       "      <td>0.351538</td>\n",
       "    </tr>\n",
       "    <tr>\n",
       "      <th>PronounceGIF</th>\n",
       "      <td>0.152352</td>\n",
       "      <td>40</td>\n",
       "      <td>43</td>\n",
       "      <td>3</td>\n",
       "      <td>0.001361</td>\n",
       "      <td>0.001154</td>\n",
       "    </tr>\n",
       "    <tr>\n",
       "      <th>InfluenceWorkstation</th>\n",
       "      <td>0.116222</td>\n",
       "      <td>13270</td>\n",
       "      <td>14311</td>\n",
       "      <td>1041</td>\n",
       "      <td>0.453037</td>\n",
       "      <td>0.400385</td>\n",
       "    </tr>\n",
       "    <tr>\n",
       "      <th>InfluenceRecruitment</th>\n",
       "      <td>0.114469</td>\n",
       "      <td>13318</td>\n",
       "      <td>14365</td>\n",
       "      <td>1047</td>\n",
       "      <td>0.454747</td>\n",
       "      <td>0.402692</td>\n",
       "    </tr>\n",
       "    <tr>\n",
       "      <th>InfluenceCloud</th>\n",
       "      <td>0.113606</td>\n",
       "      <td>13304</td>\n",
       "      <td>14351</td>\n",
       "      <td>1047</td>\n",
       "      <td>0.454304</td>\n",
       "      <td>0.402692</td>\n",
       "    </tr>\n",
       "  </tbody>\n",
       "</table>\n",
       "</div>"
      ],
      "text/plain": [
       "                         diff_perc  Male minus Female  Male_nulls  \\\n",
       "MajorUndergrad            0.558053               4477        4646   \n",
       "HighestEducationParents   0.228596                354         378   \n",
       "CompanySize               0.222065               6578        7028   \n",
       "CompanyType               0.219765               6601        7054   \n",
       "ClickyKeys                0.196720                226         242   \n",
       "JobProfile                0.174061              12531       13445   \n",
       "PronounceGIF              0.152352                 40          43   \n",
       "InfluenceWorkstation      0.116222              13270       14311   \n",
       "InfluenceRecruitment      0.114469              13318       14365   \n",
       "InfluenceCloud            0.113606              13304       14351   \n",
       "\n",
       "                         Female_nulls  Male_perc  Female_perc  \n",
       "MajorUndergrad                    169   0.147077     0.065000  \n",
       "HighestEducationParents            24   0.011966     0.009231  \n",
       "CompanySize                       450   0.222483     0.173077  \n",
       "CompanyType                       453   0.223306     0.174231  \n",
       "ClickyKeys                         16   0.007661     0.006154  \n",
       "JobProfile                        914   0.425623     0.351538  \n",
       "PronounceGIF                        3   0.001361     0.001154  \n",
       "InfluenceWorkstation             1041   0.453037     0.400385  \n",
       "InfluenceRecruitment             1047   0.454747     0.402692  \n",
       "InfluenceCloud                   1047   0.454304     0.402692  "
      ]
     },
     "execution_count": 212,
     "metadata": {},
     "output_type": "execute_result"
    }
   ],
   "source": [
    "ord_d_Male = df[df['Gender']=='Male'].isnull().sum()/df[df['Gender']=='Male'].isnull().count()\n",
    "# create new df with perc and absolute values of difference in null values\n",
    "diff_na = ((ord_d_Male -ord_d)/ord_d_Male).to_frame(name='diff_perc')\n",
    "diff_na['Male minus Female'] = (df[df['Gender']=='Male'].isnull().sum()-df[df['Gender']=='Female'].isnull().sum()).values\n",
    "diff_na['Male_nulls']=df[df['Gender']=='Male'].isnull().sum()\n",
    "diff_na['Female_nulls']=df[df['Gender']=='Female'].isnull().sum()\n",
    "diff_na['Male_perc']=df[df['Gender']=='Male'].isnull().sum()/df[df['Gender']=='Male'].isnull().count()\n",
    "diff_na['Female_perc']=df[df['Gender']=='Female'].isnull().sum()/df[df['Gender']=='Female'].isnull().count()\n",
    "\n",
    "\n",
    "\n",
    "print ('Top missing values % difference, Male over female: ')\n",
    "diff_na.sort_values(by = ['diff_perc'],ascending = False).head(10)"
   ]
  },
  {
   "cell_type": "markdown",
   "metadata": {},
   "source": [
    "Now some data where Female had more nulls than Males and also where null values of more than 5%.\n",
    "There are some noticable results hereincluding:\n",
    "- Females had much more na in StackoverflowCopiedCode, HaveWorkedPlatform, StackOverFlowModeration."
   ]
  },
  {
   "cell_type": "markdown",
   "metadata": {},
   "source": [
    "#### Females did not answer many questions (compared to Males) related to SO Moderation, development of the Platform and how many times the code was copied from StackOverFlow"
   ]
  },
  {
   "cell_type": "code",
   "execution_count": 229,
   "metadata": {},
   "outputs": [
    {
     "name": "stdout",
     "output_type": "stream",
     "text": [
      "Bottom missing values % difference, Male over female: \n"
     ]
    },
    {
     "data": {
      "text/html": [
       "<div>\n",
       "<style scoped>\n",
       "    .dataframe tbody tr th:only-of-type {\n",
       "        vertical-align: middle;\n",
       "    }\n",
       "\n",
       "    .dataframe tbody tr th {\n",
       "        vertical-align: top;\n",
       "    }\n",
       "\n",
       "    .dataframe thead th {\n",
       "        text-align: right;\n",
       "    }\n",
       "</style>\n",
       "<table border=\"1\" class=\"dataframe\">\n",
       "  <thead>\n",
       "    <tr style=\"text-align: right;\">\n",
       "      <th></th>\n",
       "      <th>diff_perc</th>\n",
       "      <th>Male minus Female</th>\n",
       "      <th>Male_nulls</th>\n",
       "      <th>Female_nulls</th>\n",
       "      <th>Male_perc</th>\n",
       "      <th>Female_perc</th>\n",
       "    </tr>\n",
       "  </thead>\n",
       "  <tbody>\n",
       "    <tr>\n",
       "      <th>StackOverflowBetter</th>\n",
       "      <td>-0.408747</td>\n",
       "      <td>1624</td>\n",
       "      <td>1837</td>\n",
       "      <td>213</td>\n",
       "      <td>0.058153</td>\n",
       "      <td>0.081923</td>\n",
       "    </tr>\n",
       "    <tr>\n",
       "      <th>StackOverflowCopiedCode</th>\n",
       "      <td>-0.402722</td>\n",
       "      <td>1471</td>\n",
       "      <td>1663</td>\n",
       "      <td>192</td>\n",
       "      <td>0.052645</td>\n",
       "      <td>0.073846</td>\n",
       "    </tr>\n",
       "    <tr>\n",
       "      <th>HaveWorkedPlatform</th>\n",
       "      <td>-0.387242</td>\n",
       "      <td>5741</td>\n",
       "      <td>6481</td>\n",
       "      <td>740</td>\n",
       "      <td>0.205166</td>\n",
       "      <td>0.284615</td>\n",
       "    </tr>\n",
       "    <tr>\n",
       "      <th>StackOverflowNewQuestion</th>\n",
       "      <td>-0.354176</td>\n",
       "      <td>1706</td>\n",
       "      <td>1920</td>\n",
       "      <td>214</td>\n",
       "      <td>0.060781</td>\n",
       "      <td>0.082308</td>\n",
       "    </tr>\n",
       "    <tr>\n",
       "      <th>StackOverflowJobSearch</th>\n",
       "      <td>-0.328049</td>\n",
       "      <td>1866</td>\n",
       "      <td>2095</td>\n",
       "      <td>229</td>\n",
       "      <td>0.066321</td>\n",
       "      <td>0.088077</td>\n",
       "    </tr>\n",
       "    <tr>\n",
       "      <th>StackOverflowModeration</th>\n",
       "      <td>-0.326497</td>\n",
       "      <td>4357</td>\n",
       "      <td>4891</td>\n",
       "      <td>534</td>\n",
       "      <td>0.154832</td>\n",
       "      <td>0.205385</td>\n",
       "    </tr>\n",
       "    <tr>\n",
       "      <th>StackOverflowAdsRelevant</th>\n",
       "      <td>-0.321408</td>\n",
       "      <td>3835</td>\n",
       "      <td>4303</td>\n",
       "      <td>468</td>\n",
       "      <td>0.136218</td>\n",
       "      <td>0.180000</td>\n",
       "    </tr>\n",
       "    <tr>\n",
       "      <th>StackOverflowAnswer</th>\n",
       "      <td>-0.314468</td>\n",
       "      <td>1764</td>\n",
       "      <td>1978</td>\n",
       "      <td>214</td>\n",
       "      <td>0.062617</td>\n",
       "      <td>0.082308</td>\n",
       "    </tr>\n",
       "    <tr>\n",
       "      <th>StackOverflowWhatDo</th>\n",
       "      <td>-0.296804</td>\n",
       "      <td>1883</td>\n",
       "      <td>2108</td>\n",
       "      <td>225</td>\n",
       "      <td>0.066732</td>\n",
       "      <td>0.086538</td>\n",
       "    </tr>\n",
       "    <tr>\n",
       "      <th>StackOverflowHelpful</th>\n",
       "      <td>-0.295557</td>\n",
       "      <td>1441</td>\n",
       "      <td>1613</td>\n",
       "      <td>172</td>\n",
       "      <td>0.051062</td>\n",
       "      <td>0.066154</td>\n",
       "    </tr>\n",
       "  </tbody>\n",
       "</table>\n",
       "</div>"
      ],
      "text/plain": [
       "                          diff_perc  Male minus Female  Male_nulls  \\\n",
       "StackOverflowBetter       -0.408747               1624        1837   \n",
       "StackOverflowCopiedCode   -0.402722               1471        1663   \n",
       "HaveWorkedPlatform        -0.387242               5741        6481   \n",
       "StackOverflowNewQuestion  -0.354176               1706        1920   \n",
       "StackOverflowJobSearch    -0.328049               1866        2095   \n",
       "StackOverflowModeration   -0.326497               4357        4891   \n",
       "StackOverflowAdsRelevant  -0.321408               3835        4303   \n",
       "StackOverflowAnswer       -0.314468               1764        1978   \n",
       "StackOverflowWhatDo       -0.296804               1883        2108   \n",
       "StackOverflowHelpful      -0.295557               1441        1613   \n",
       "\n",
       "                          Female_nulls  Male_perc  Female_perc  \n",
       "StackOverflowBetter                213   0.058153     0.081923  \n",
       "StackOverflowCopiedCode            192   0.052645     0.073846  \n",
       "HaveWorkedPlatform                 740   0.205166     0.284615  \n",
       "StackOverflowNewQuestion           214   0.060781     0.082308  \n",
       "StackOverflowJobSearch             229   0.066321     0.088077  \n",
       "StackOverflowModeration            534   0.154832     0.205385  \n",
       "StackOverflowAdsRelevant           468   0.136218     0.180000  \n",
       "StackOverflowAnswer                214   0.062617     0.082308  \n",
       "StackOverflowWhatDo                225   0.066732     0.086538  \n",
       "StackOverflowHelpful               172   0.051062     0.066154  "
      ]
     },
     "execution_count": 229,
     "metadata": {},
     "output_type": "execute_result"
    }
   ],
   "source": [
    "print ('Bottom missing values % difference, Male over female: ')\n",
    "#selecting Females over Males (negatives) and those more than 5%\n",
    "diff_na[diff_na['Male_perc']>0.05].sort_values(by = ['diff_perc'], ascending = True, na_position = 'last').head(10)"
   ]
  },
  {
   "cell_type": "code",
   "execution_count": 532,
   "metadata": {},
   "outputs": [
    {
     "data": {
      "text/plain": [
       "'Stack Overflow makes the Internet a better place'"
      ]
     },
     "execution_count": 532,
     "metadata": {},
     "output_type": "execute_result"
    }
   ],
   "source": [
    "question(df_schema,'StackOverflowBetter')"
   ]
  },
  {
   "cell_type": "code",
   "execution_count": 228,
   "metadata": {},
   "outputs": [
    {
     "data": {
      "text/plain": [
       "'The moderation on Stack Overflow is unfair'"
      ]
     },
     "execution_count": 228,
     "metadata": {},
     "output_type": "execute_result"
    }
   ],
   "source": [
    "question(df_schema,'StackOverflowModeration')"
   ]
  },
  {
   "cell_type": "code",
   "execution_count": 224,
   "metadata": {},
   "outputs": [
    {
     "data": {
      "text/plain": [
       "'Which of the following platforms have you done extensive development work for over the past year, and which do you want to work on over the next year?'"
      ]
     },
     "execution_count": 224,
     "metadata": {},
     "output_type": "execute_result"
    }
   ],
   "source": [
    "#what is the HaveWorkedPlatform?\n",
    "question(df_schema,'HaveWorkedPlatform')"
   ]
  },
  {
   "cell_type": "code",
   "execution_count": 226,
   "metadata": {
    "scrolled": true
   },
   "outputs": [
    {
     "data": {
      "text/plain": [
       "'Over the last three months, approximately how often have you done each of the following on Stack Overflow? Copied a code example and pasted it into my codebase'"
      ]
     },
     "execution_count": 226,
     "metadata": {},
     "output_type": "execute_result"
    }
   ],
   "source": [
    "question(df_schema,'StackOverflowCopiedCode')"
   ]
  },
  {
   "cell_type": "markdown",
   "metadata": {},
   "source": [
    "#### Males compared to females did not answer more questions than females on the following"
   ]
  },
  {
   "cell_type": "code",
   "execution_count": 534,
   "metadata": {
    "scrolled": false
   },
   "outputs": [
    {
     "data": {
      "text/html": [
       "<div>\n",
       "<style scoped>\n",
       "    .dataframe tbody tr th:only-of-type {\n",
       "        vertical-align: middle;\n",
       "    }\n",
       "\n",
       "    .dataframe tbody tr th {\n",
       "        vertical-align: top;\n",
       "    }\n",
       "\n",
       "    .dataframe thead th {\n",
       "        text-align: right;\n",
       "    }\n",
       "</style>\n",
       "<table border=\"1\" class=\"dataframe\">\n",
       "  <thead>\n",
       "    <tr style=\"text-align: right;\">\n",
       "      <th></th>\n",
       "      <th>diff_perc</th>\n",
       "      <th>Male minus Female</th>\n",
       "      <th>Male_nulls</th>\n",
       "      <th>Female_nulls</th>\n",
       "      <th>Male_perc</th>\n",
       "      <th>Female_perc</th>\n",
       "    </tr>\n",
       "  </thead>\n",
       "  <tbody>\n",
       "    <tr>\n",
       "      <th>MajorUndergrad</th>\n",
       "      <td>0.558053</td>\n",
       "      <td>4477</td>\n",
       "      <td>4646</td>\n",
       "      <td>169</td>\n",
       "      <td>0.147077</td>\n",
       "      <td>0.065000</td>\n",
       "    </tr>\n",
       "    <tr>\n",
       "      <th>CompanySize</th>\n",
       "      <td>0.222065</td>\n",
       "      <td>6578</td>\n",
       "      <td>7028</td>\n",
       "      <td>450</td>\n",
       "      <td>0.222483</td>\n",
       "      <td>0.173077</td>\n",
       "    </tr>\n",
       "    <tr>\n",
       "      <th>CompanyType</th>\n",
       "      <td>0.219765</td>\n",
       "      <td>6601</td>\n",
       "      <td>7054</td>\n",
       "      <td>453</td>\n",
       "      <td>0.223306</td>\n",
       "      <td>0.174231</td>\n",
       "    </tr>\n",
       "    <tr>\n",
       "      <th>JobProfile</th>\n",
       "      <td>0.174061</td>\n",
       "      <td>12531</td>\n",
       "      <td>13445</td>\n",
       "      <td>914</td>\n",
       "      <td>0.425623</td>\n",
       "      <td>0.351538</td>\n",
       "    </tr>\n",
       "    <tr>\n",
       "      <th>InfluenceWorkstation</th>\n",
       "      <td>0.116222</td>\n",
       "      <td>13270</td>\n",
       "      <td>14311</td>\n",
       "      <td>1041</td>\n",
       "      <td>0.453037</td>\n",
       "      <td>0.400385</td>\n",
       "    </tr>\n",
       "    <tr>\n",
       "      <th>InfluenceRecruitment</th>\n",
       "      <td>0.114469</td>\n",
       "      <td>13318</td>\n",
       "      <td>14365</td>\n",
       "      <td>1047</td>\n",
       "      <td>0.454747</td>\n",
       "      <td>0.402692</td>\n",
       "    </tr>\n",
       "    <tr>\n",
       "      <th>InfluenceCloud</th>\n",
       "      <td>0.113606</td>\n",
       "      <td>13304</td>\n",
       "      <td>14351</td>\n",
       "      <td>1047</td>\n",
       "      <td>0.454304</td>\n",
       "      <td>0.402692</td>\n",
       "    </tr>\n",
       "    <tr>\n",
       "      <th>InfluenceCommunication</th>\n",
       "      <td>0.113500</td>\n",
       "      <td>13315</td>\n",
       "      <td>14363</td>\n",
       "      <td>1048</td>\n",
       "      <td>0.454684</td>\n",
       "      <td>0.403077</td>\n",
       "    </tr>\n",
       "    <tr>\n",
       "      <th>InfluenceServers</th>\n",
       "      <td>0.112283</td>\n",
       "      <td>13308</td>\n",
       "      <td>14357</td>\n",
       "      <td>1049</td>\n",
       "      <td>0.454494</td>\n",
       "      <td>0.403462</td>\n",
       "    </tr>\n",
       "    <tr>\n",
       "      <th>InfluenceHardware</th>\n",
       "      <td>0.111604</td>\n",
       "      <td>13259</td>\n",
       "      <td>14305</td>\n",
       "      <td>1046</td>\n",
       "      <td>0.452848</td>\n",
       "      <td>0.402308</td>\n",
       "    </tr>\n",
       "  </tbody>\n",
       "</table>\n",
       "</div>"
      ],
      "text/plain": [
       "                        diff_perc  Male minus Female  Male_nulls  \\\n",
       "MajorUndergrad           0.558053               4477        4646   \n",
       "CompanySize              0.222065               6578        7028   \n",
       "CompanyType              0.219765               6601        7054   \n",
       "JobProfile               0.174061              12531       13445   \n",
       "InfluenceWorkstation     0.116222              13270       14311   \n",
       "InfluenceRecruitment     0.114469              13318       14365   \n",
       "InfluenceCloud           0.113606              13304       14351   \n",
       "InfluenceCommunication   0.113500              13315       14363   \n",
       "InfluenceServers         0.112283              13308       14357   \n",
       "InfluenceHardware        0.111604              13259       14305   \n",
       "\n",
       "                        Female_nulls  Male_perc  Female_perc  \n",
       "MajorUndergrad                   169   0.147077     0.065000  \n",
       "CompanySize                      450   0.222483     0.173077  \n",
       "CompanyType                      453   0.223306     0.174231  \n",
       "JobProfile                       914   0.425623     0.351538  \n",
       "InfluenceWorkstation            1041   0.453037     0.400385  \n",
       "InfluenceRecruitment            1047   0.454747     0.402692  \n",
       "InfluenceCloud                  1047   0.454304     0.402692  \n",
       "InfluenceCommunication          1048   0.454684     0.403077  \n",
       "InfluenceServers                1049   0.454494     0.403462  \n",
       "InfluenceHardware               1046   0.452848     0.402308  "
      ]
     },
     "execution_count": 534,
     "metadata": {},
     "output_type": "execute_result"
    }
   ],
   "source": [
    "diff_na[diff_na['Male_perc']>0.05].sort_values(by = ['diff_perc'],ascending = False).head(10)"
   ]
  },
  {
   "cell_type": "code",
   "execution_count": 535,
   "metadata": {},
   "outputs": [
    {
     "data": {
      "text/plain": [
       "\"Which of the following best describes your main field of study (aka 'major') in college or university/for your undergraduate studies?\""
      ]
     },
     "execution_count": 535,
     "metadata": {},
     "output_type": "execute_result"
    }
   ],
   "source": [
    "question(df_schema,'MajorUndergrad')"
   ]
  },
  {
   "cell_type": "code",
   "execution_count": 536,
   "metadata": {},
   "outputs": [
    {
     "data": {
      "text/plain": [
       "'In terms of the number of employees, how large is the company or organization you work for?'"
      ]
     },
     "execution_count": 536,
     "metadata": {},
     "output_type": "execute_result"
    }
   ],
   "source": [
    "question(df_schema,'CompanySize')"
   ]
  },
  {
   "cell_type": "code",
   "execution_count": 537,
   "metadata": {},
   "outputs": [
    {
     "data": {
      "text/plain": [
       "'Which of the following best describes the type of company or organization you work for?'"
      ]
     },
     "execution_count": 537,
     "metadata": {},
     "output_type": "execute_result"
    }
   ],
   "source": [
    "question(df_schema,'CompanyType')"
   ]
  },
  {
   "cell_type": "markdown",
   "metadata": {},
   "source": [
    "### List of issues for women are in technology domain"
   ]
  },
  {
   "cell_type": "code",
   "execution_count": 419,
   "metadata": {},
   "outputs": [],
   "source": [
    "# will create dataframes to focus on Females only and Males only without collecing info on other genders\n",
    "df_female = df[df['Gender']=='Female']\n",
    "df_male = df[df['Gender']=='Male']\n"
   ]
  },
  {
   "cell_type": "code",
   "execution_count": 425,
   "metadata": {},
   "outputs": [
    {
     "data": {
      "text/plain": [
       "2600"
      ]
     },
     "execution_count": 425,
     "metadata": {},
     "output_type": "execute_result"
    }
   ],
   "source": [
    "len(df_female['JobSatisfaction'])"
   ]
  },
  {
   "cell_type": "code",
   "execution_count": 421,
   "metadata": {},
   "outputs": [
    {
     "data": {
      "text/plain": [
       "(31589, 154)"
      ]
     },
     "execution_count": 421,
     "metadata": {},
     "output_type": "execute_result"
    }
   ],
   "source": [
    "df_male.shape"
   ]
  },
  {
   "cell_type": "code",
   "execution_count": 314,
   "metadata": {},
   "outputs": [
    {
     "data": {
      "text/plain": [
       "'Job satisfaction rating'"
      ]
     },
     "execution_count": 314,
     "metadata": {},
     "output_type": "execute_result"
    }
   ],
   "source": [
    "question(df, 'JobSatisfaction')"
   ]
  },
  {
   "cell_type": "code",
   "execution_count": 616,
   "metadata": {
    "scrolled": true
   },
   "outputs": [
    {
     "name": "stdout",
     "output_type": "stream",
     "text": [
      "   type     ratio\n",
      "0   8.0  0.213615\n",
      "1   7.0  0.193427\n",
      "2   9.0  0.151643\n",
      "3   6.0  0.117840\n",
      "4  10.0  0.096244\n",
      "5   5.0  0.092958\n",
      "6   4.0  0.048826\n",
      "7   3.0  0.041784\n",
      "8   2.0  0.021596\n",
      "9   0.0  0.011268\n"
     ]
    },
    {
     "data": {
      "image/png": "[encoded data removed]",
      "text/plain": [
       "<Figure size 432x288 with 1 Axes>"
      ]
     },
     "metadata": {
      "needs_background": "light"
     },
     "output_type": "display_data"
    }
   ],
   "source": [
    "countplot2(df_female['JobSatisfaction'],'Job Satisfaction',2)"
   ]
  },
  {
   "cell_type": "code",
   "execution_count": 617,
   "metadata": {},
   "outputs": [
    {
     "name": "stdout",
     "output_type": "stream",
     "text": [
      "   type     ratio\n",
      "0   8.0  0.229567\n",
      "1   7.0  0.200639\n",
      "2   9.0  0.145784\n",
      "3   6.0  0.116133\n",
      "4  10.0  0.097240\n",
      "5   5.0  0.087014\n",
      "6   4.0  0.044439\n",
      "7   3.0  0.039117\n",
      "8   2.0  0.021782\n",
      "9   0.0  0.009922\n"
     ]
    },
    {
     "data": {
      "image/png": "[encoded data removed]",
      "text/plain": [
       "<Figure size 432x288 with 1 Axes>"
      ]
     },
     "metadata": {
      "needs_background": "light"
     },
     "output_type": "display_data"
    }
   ],
   "source": [
    "countplot2(df_male['JobSatisfaction'],'Job satisfaction males',2)"
   ]
  },
  {
   "cell_type": "code",
   "execution_count": 548,
   "metadata": {},
   "outputs": [
    {
     "data": {
      "text/plain": [
       "\"df_jobsat = pd.DataFrame()\\ndf_jobsat['Male'] = df_male['JobSatisfaction'].value_counts()/df_male['JobSatisfaction'].count()\\ndf_jobsat['Female']=pd.DataFrame(df_female['JobSatisfaction'].value_counts()/df_female['JobSatisfaction'].count())\\n\\ndf_jobsat['MaleoverFemale']=pd.DataFrame(df_male['JobSatisfaction'].value_counts()/df_male['JobSatisfaction'].count())-pd.DataFrame(df_female['JobSatisfaction'].value_counts()/df_female['JobSatisfaction'].count())\\n\""
      ]
     },
     "execution_count": 548,
     "metadata": {},
     "output_type": "execute_result"
    }
   ],
   "source": [
    "#Old code for job satisfaction\n",
    "'''df_jobsat = pd.DataFrame()\n",
    "df_jobsat['Male'] = df_male['JobSatisfaction'].value_counts()/df_male['JobSatisfaction'].count()\n",
    "df_jobsat['Female']=pd.DataFrame(df_female['JobSatisfaction'].value_counts()/df_female['JobSatisfaction'].count())\n",
    "\n",
    "df_jobsat['MaleoverFemale']=pd.DataFrame(df_male['JobSatisfaction'].value_counts()/df_male['JobSatisfaction'].count())-pd.DataFrame(df_female['JobSatisfaction'].value_counts()/df_female['JobSatisfaction'].count())\n",
    "'''"
   ]
  },
  {
   "cell_type": "markdown",
   "metadata": {},
   "source": [
    "#### Job satisfaction differences\n",
    "Males seem to be more satisfied than females in general, as they selected less ratings of 0 to 6 than females and selected more 7 and 8 and 10 ratings. However, the differences are not significant."
   ]
  },
  {
   "cell_type": "code",
   "execution_count": 372,
   "metadata": {
    "scrolled": false
   },
   "outputs": [
    {
     "data": {
      "text/plain": [
       "<BarContainer object of 11 artists>"
      ]
     },
     "execution_count": 372,
     "metadata": {},
     "output_type": "execute_result"
    },
    {
     "data": {
      "image/png": "[encoded data removed]",
      "text/plain": [
       "<Figure size 432x288 with 1 Axes>"
      ]
     },
     "metadata": {
      "needs_background": "light"
     },
     "output_type": "display_data"
    }
   ],
   "source": [
    "# Difference between the male and female job satisfaction.\n",
    "plt.bar(x=df_jobsat.index, data = df_jobsat['MaleoverFemale'], height=df_jobsat['MaleoverFemale'])"
   ]
  },
  {
   "cell_type": "code",
   "execution_count": 560,
   "metadata": {
    "scrolled": true
   },
   "outputs": [
    {
     "name": "stdout",
     "output_type": "stream",
     "text": [
      "   rating    delta%\n",
      "0     8.0  0.015952\n",
      "1     7.0  0.007211\n",
      "2     9.0 -0.005859\n",
      "3     6.0 -0.001707\n",
      "4    10.0  0.000996\n",
      "5     5.0 -0.005943\n",
      "6     4.0 -0.004388\n",
      "7     3.0 -0.002667\n",
      "8     2.0  0.000186\n",
      "9     0.0 -0.001346\n"
     ]
    },
    {
     "data": {
      "image/png": "[encoded data removed]",
      "text/plain": [
       "<Figure size 432x288 with 1 Axes>"
      ]
     },
     "metadata": {
      "needs_background": "light"
     },
     "output_type": "display_data"
    }
   ],
   "source": [
    "male_vs_female(df,'JobSatisfaction','Job Satisfaction')"
   ]
  },
  {
   "cell_type": "markdown",
   "metadata": {},
   "source": [
    "#### Average job satisfaction for Males and Females"
   ]
  },
  {
   "cell_type": "code",
   "execution_count": 557,
   "metadata": {},
   "outputs": [
    {
     "data": {
      "text/plain": [
       "7.004371626244963"
      ]
     },
     "execution_count": 557,
     "metadata": {},
     "output_type": "execute_result"
    }
   ],
   "source": [
    "df['JobSatisfaction'][df['Gender']=='Male'].sum()/df['JobSatisfaction'][df['Gender']=='Male'].count()"
   ]
  },
  {
   "cell_type": "code",
   "execution_count": 558,
   "metadata": {},
   "outputs": [
    {
     "data": {
      "text/plain": [
       "6.936619718309859"
      ]
     },
     "execution_count": 558,
     "metadata": {},
     "output_type": "execute_result"
    }
   ],
   "source": [
    "df['JobSatisfaction'][df['Gender']=='Female'].sum()/df['JobSatisfaction'][df['Gender']=='Female'].count()"
   ]
  },
  {
   "cell_type": "code",
   "execution_count": 377,
   "metadata": {},
   "outputs": [
    {
     "data": {
      "text/plain": [
       "'Career satisfaction rating'"
      ]
     },
     "execution_count": 377,
     "metadata": {},
     "output_type": "execute_result"
    }
   ],
   "source": [
    "question(df,'CareerSatisfaction')"
   ]
  },
  {
   "cell_type": "code",
   "execution_count": 618,
   "metadata": {
    "scrolled": true
   },
   "outputs": [
    {
     "name": "stdout",
     "output_type": "stream",
     "text": [
      "   type     ratio\n",
      "0   8.0  0.253017\n",
      "1   7.0  0.228878\n",
      "2   9.0  0.135449\n",
      "3   6.0  0.115333\n",
      "4  10.0  0.099687\n",
      "5   5.0  0.075548\n",
      "6   4.0  0.039338\n",
      "7   3.0  0.028163\n",
      "8   2.0  0.012517\n",
      "9   1.0  0.006258\n"
     ]
    },
    {
     "data": {
      "image/png": "[encoded data removed]",
      "text/plain": [
       "<Figure size 432x288 with 1 Axes>"
      ]
     },
     "metadata": {
      "needs_background": "light"
     },
     "output_type": "display_data"
    }
   ],
   "source": [
    "countplot2(df_female['CareerSatisfaction'],'Female Career Satisfaction',2)"
   ]
  },
  {
   "cell_type": "code",
   "execution_count": 619,
   "metadata": {},
   "outputs": [
    {
     "name": "stdout",
     "output_type": "stream",
     "text": [
      "   type     ratio\n",
      "0   8.0  0.273294\n",
      "1   7.0  0.223479\n",
      "2   9.0  0.139729\n",
      "3  10.0  0.122507\n",
      "4   6.0  0.107498\n",
      "5   5.0  0.062795\n",
      "6   4.0  0.027337\n",
      "7   3.0  0.022950\n",
      "8   2.0  0.010152\n",
      "9   0.0  0.006997\n"
     ]
    },
    {
     "data": {
      "image/png": "[encoded data removed]",
      "text/plain": [
       "<Figure size 432x288 with 1 Axes>"
      ]
     },
     "metadata": {
      "needs_background": "light"
     },
     "output_type": "display_data"
    }
   ],
   "source": [
    "countplot2(df_male['CareerSatisfaction'],'Male Career Satisfaction',2)"
   ]
  },
  {
   "cell_type": "code",
   "execution_count": 562,
   "metadata": {},
   "outputs": [
    {
     "name": "stdout",
     "output_type": "stream",
     "text": [
      "   rating     delta\n",
      "0     0.0  0.001186\n",
      "1     1.0 -0.002995\n",
      "2     2.0 -0.002365\n",
      "3     3.0 -0.005213\n",
      "4     4.0 -0.012002\n",
      "5     5.0 -0.012753\n",
      "6     6.0 -0.007835\n",
      "7     7.0 -0.005399\n",
      "8     8.0  0.020277\n",
      "9     9.0  0.004280\n"
     ]
    },
    {
     "data": {
      "image/png": "[encoded data removed]",
      "text/plain": [
       "<Figure size 432x288 with 1 Axes>"
      ]
     },
     "metadata": {
      "needs_background": "light"
     },
     "output_type": "display_data"
    }
   ],
   "source": [
    "male_vs_female(df,'CareerSatisfaction', 'Career Satisfaction')"
   ]
  },
  {
   "cell_type": "code",
   "execution_count": 620,
   "metadata": {
    "scrolled": true
   },
   "outputs": [
    {
     "name": "stdout",
     "output_type": "stream",
     "text": [
      "             type     ratio\n",
      "0   United States  0.325769\n",
      "1           India  0.088462\n",
      "2  United Kingdom  0.085000\n",
      "3         Germany  0.058846\n",
      "4          Canada  0.057692\n",
      "5          Poland  0.037692\n",
      "6          France  0.024615\n",
      "7           Spain  0.015769\n",
      "8       Australia  0.015385\n",
      "9          Israel  0.015385\n"
     ]
    },
    {
     "data": {
      "image/png": "[encoded data removed]",
      "text/plain": [
       "<Figure size 432x288 with 1 Axes>"
      ]
     },
     "metadata": {
      "needs_background": "light"
     },
     "output_type": "display_data"
    }
   ],
   "source": [
    "countplot2(df_female['Country'],'Country',10)"
   ]
  },
  {
   "cell_type": "markdown",
   "metadata": {},
   "source": [
    "### Salary related information"
   ]
  },
  {
   "cell_type": "code",
   "execution_count": 668,
   "metadata": {
    "scrolled": true
   },
   "outputs": [],
   "source": [
    "# Creating five bins for salary distribution\n",
    "df['Salary_bin']=pd.cut(df['Salary'],5)"
   ]
  },
  {
   "cell_type": "code",
   "execution_count": 634,
   "metadata": {},
   "outputs": [
    {
     "data": {
      "text/plain": [
       "0                    NaN\n",
       "1                    NaN\n",
       "2    (78800.0, 118200.0]\n",
       "3                    NaN\n",
       "4                    NaN\n",
       "Name: Salary_bin, dtype: category\n",
       "Categories (5, interval[float64]): [(-197.0, 39400.0] < (39400.0, 78800.0] < (78800.0, 118200.0] < (118200.0, 157600.0] < (157600.0, 197000.0]]"
      ]
     },
     "execution_count": 634,
     "metadata": {},
     "output_type": "execute_result"
    }
   ],
   "source": [
    "df['Salary_bin'].head()"
   ]
  },
  {
   "cell_type": "code",
   "execution_count": 667,
   "metadata": {
    "scrolled": true
   },
   "outputs": [
    {
     "data": {
      "text/plain": [
       "<matplotlib.axes._subplots.AxesSubplot at 0x1a39b89da0>"
      ]
     },
     "execution_count": 667,
     "metadata": {},
     "output_type": "execute_result"
    },
    {
     "data": {
      "image/png": "[encoded data removed]",
      "text/plain": [
       "<Figure size 432x288 with 1 Axes>"
      ]
     },
     "metadata": {
      "needs_background": "light"
     },
     "output_type": "display_data"
    }
   ],
   "source": [
    "#Plotting the salary data\n",
    "ratio = df['Salary_bin'].value_counts()/df['Salary_bin'].count() #df1.shape[0]\n",
    "ratio.plot(kind='bar')"
   ]
  },
  {
   "cell_type": "markdown",
   "metadata": {},
   "source": [
    "### Plotting the salary information according to the bins and gender"
   ]
  },
  {
   "cell_type": "code",
   "execution_count": 676,
   "metadata": {
    "scrolled": true
   },
   "outputs": [
    {
     "data": {
      "image/png": "[encoded data removed]",
      "text/plain": [
       "<Figure size 432x288 with 1 Axes>"
      ]
     },
     "metadata": {
      "needs_background": "light"
     },
     "output_type": "display_data"
    }
   ],
   "source": [
    "sal =sns.countplot(data = df[(df['Gender']=='Male')|(df['Gender']=='Female')], \n",
    "                   x= 'Salary_bin', hue='Gender', \n",
    "                   log=True\n",
    "                  );\n",
    "sal.set_xticklabels(sal.get_xticklabels(), rotation=40, ha=\"right\");\n"
   ]
  },
  {
   "cell_type": "markdown",
   "metadata": {},
   "source": [
    "### Difference in female and male salary bins"
   ]
  },
  {
   "cell_type": "code",
   "execution_count": 682,
   "metadata": {},
   "outputs": [
    {
     "name": "stderr",
     "output_type": "stream",
     "text": [
      "/Users/azizmamatov/anaconda/envs/uda/lib/python3.6/site-packages/ipykernel_launcher.py:1: SettingWithCopyWarning: \n",
      "A value is trying to be set on a copy of a slice from a DataFrame.\n",
      "Try using .loc[row_indexer,col_indexer] = value instead\n",
      "\n",
      "See the caveats in the documentation: http://pandas.pydata.org/pandas-docs/stable/indexing.html#indexing-view-versus-copy\n",
      "  \"\"\"Entry point for launching an IPython kernel.\n",
      "/Users/azizmamatov/anaconda/envs/uda/lib/python3.6/site-packages/ipykernel_launcher.py:2: SettingWithCopyWarning: \n",
      "A value is trying to be set on a copy of a slice from a DataFrame.\n",
      "Try using .loc[row_indexer,col_indexer] = value instead\n",
      "\n",
      "See the caveats in the documentation: http://pandas.pydata.org/pandas-docs/stable/indexing.html#indexing-view-versus-copy\n",
      "  \n"
     ]
    },
    {
     "data": {
      "text/plain": [
       "(39400.0, 78800.0]     -0.003480\n",
       "(-197.0, 39400.0]       0.028549\n",
       "(78800.0, 118200.0]    -0.032984\n",
       "(118200.0, 157600.0]    0.006254\n",
       "(157600.0, 197000.0]    0.001662\n",
       "Name: Salary_bin, dtype: float64"
      ]
     },
     "execution_count": 682,
     "metadata": {},
     "output_type": "execute_result"
    }
   ],
   "source": [
    "#calculating percent difference in salary bins distribution between males and females\n",
    "df_female['Salary_bin']= df['Salary_bin'][df['Gender']=='Female']\n",
    "df_male['Salary_bin']= df['Salary_bin'][df['Gender']=='Male']\n",
    "    \n",
    "df_male['Salary_bin'].value_counts()/df_male['Salary_bin'].count()-df_female['Salary_bin'].value_counts()/df_female['Salary_bin'].count()"
   ]
  },
  {
   "cell_type": "code",
   "execution_count": 673,
   "metadata": {},
   "outputs": [
    {
     "data": {
      "text/plain": [
       "(39400.0, 78800.0]      0.371615\n",
       "(-197.0, 39400.0]       0.368394\n",
       "(78800.0, 118200.0]     0.169613\n",
       "(118200.0, 157600.0]    0.074184\n",
       "(157600.0, 197000.0]    0.016195\n",
       "Name: Salary_bin, dtype: float64"
      ]
     },
     "execution_count": 673,
     "metadata": {},
     "output_type": "execute_result"
    }
   ],
   "source": [
    "df['Salary_bin'][(df['Gender']=='Male')|(df['Gender']=='Female')].value_counts()/df['Salary_bin'][(df['Gender']=='Male')|(df['Gender']=='Female')].count()"
   ]
  }
 ],
 "metadata": {
  "anaconda-cloud": {},
  "kernelspec": {
   "display_name": "Python 3",
   "language": "python",
   "name": "python3"
  },
  "language_info": {
   "codemirror_mode": {
    "name": "ipython",
    "version": 3
   },
   "file_extension": ".py",
   "mimetype": "text/x-python",
   "name": "python",
   "nbconvert_exporter": "python",
   "pygments_lexer": "ipython3",
   "version": "3.6.8"
  }
 },
 "nbformat": 4,
 "nbformat_minor": 2
}
